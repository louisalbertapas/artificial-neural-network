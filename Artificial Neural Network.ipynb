{
 "cells": [
  {
   "cell_type": "code",
   "execution_count": 1,
   "id": "stable-immigration",
   "metadata": {},
   "outputs": [],
   "source": [
    "import numpy as np\n",
    "import matplotlib.pyplot as plt\n",
    "import h5py\n",
    "from ann_utils import *\n",
    "\n",
    "%matplotlib inline"
   ]
  },
  {
   "cell_type": "code",
   "execution_count": 2,
   "id": "breeding-pharmaceutical",
   "metadata": {},
   "outputs": [],
   "source": [
    "# Load a dataset\n",
    "dataset_train = h5py.File('datasets/train_set.h5', mode='r')\n",
    "train_set_x = np.array(dataset_train['train_set_x'][:])\n",
    "train_set_y = np.array(dataset_train['train_set_y'][:])\n",
    "\n",
    "dataset_test = h5py.File('datasets/test_set.h5', mode='r')\n",
    "test_set_x = np.array(dataset_test['test_set_x'][:])\n",
    "test_set_y = np.array(dataset_test['test_set_y'][:])\n",
    "\n",
    "classes = np.array(dataset_test['list_classes'][:])\n",
    "\n",
    "y_train = train_set_y.reshape((1, train_set_y.shape[0]))\n",
    "y_test = test_set_y.reshape((1, test_set_y.shape[0]))"
   ]
  },
  {
   "cell_type": "code",
   "execution_count": 3,
   "id": "resident-blink",
   "metadata": {},
   "outputs": [],
   "source": [
    "# Flatten the pixels and reshape into unrowed pixels by m-number of examples\n",
    "\n",
    "train_set_x_unrowed = train_set_x.reshape(train_set_x.shape[0], -1).T\n",
    "test_set_x_unrowed = test_set_x.reshape(test_set_x.shape[0], -1).T"
   ]
  },
  {
   "cell_type": "code",
   "execution_count": 4,
   "id": "looking-automation",
   "metadata": {},
   "outputs": [],
   "source": [
    "# Standardize the data set\n",
    "X_train = train_set_x_unrowed / 255\n",
    "X_test = test_set_x_unrowed / 255"
   ]
  },
  {
   "cell_type": "code",
   "execution_count": 5,
   "id": "tutorial-inquiry",
   "metadata": {},
   "outputs": [],
   "source": [
    "def multilayer_nn_model(X_train, y_train, layers_dims, num_iterations=2000, learning_rate=0.01, initializer='random', print_cost=False):\n",
    "    np.random.seed(1)\n",
    "    costs = []\n",
    "    \n",
    "    print('Using ' + initializer + ' initialization')\n",
    "    parameters = initialize_parameters(layers_dims, initializer)\n",
    "    \n",
    "    for i in range(0, num_iterations):\n",
    "        A_output, caches = forward_propagate(X_train, parameters)\n",
    "        \n",
    "        cost = compute_cost(A_output, y_train)\n",
    "        gradients = backward_propagate(A_output, y_train, caches)\n",
    "        \n",
    "        parameters = optimize_parameters(parameters, gradients, learning_rate)\n",
    "        \n",
    "        if print_cost and i % 100 == 0:\n",
    "            print (\"Cost after iteration %i: %f\" %(i, cost))\n",
    "            costs.append(cost)\n",
    "    \n",
    "    plt.plot(np.squeeze(costs))\n",
    "    plt.ylabel('cost')\n",
    "    plt.xlabel('iterations (per hundreds)')\n",
    "    plt.title(\"Learning rate: \" + str(learning_rate))\n",
    "    plt.show()\n",
    "    \n",
    "    return parameters"
   ]
  },
  {
   "cell_type": "code",
   "execution_count": 6,
   "id": "fitting-noise",
   "metadata": {},
   "outputs": [],
   "source": [
    "# Neural network layers\n",
    "# X -> 20 hidden layers -> 10 hidden layers -> 5 hidden layers -> 1 output layer\n",
    "layers_dims = [X_train.shape[0], 20, 10, 5, 1]"
   ]
  },
  {
   "cell_type": "code",
   "execution_count": 7,
   "id": "electrical-development",
   "metadata": {},
   "outputs": [
    {
     "name": "stdout",
     "output_type": "stream",
     "text": [
      "Using he initialization\n",
      "Cost after iteration 0: 0.712341\n",
      "Cost after iteration 100: 0.530092\n",
      "Cost after iteration 200: 0.426089\n",
      "Cost after iteration 300: 0.403825\n",
      "Cost after iteration 400: 0.280141\n",
      "Cost after iteration 500: 0.217392\n",
      "Cost after iteration 600: 0.096120\n",
      "Cost after iteration 700: 0.063762\n",
      "Cost after iteration 800: 0.037949\n",
      "Cost after iteration 900: 0.024505\n",
      "Cost after iteration 1000: 0.017428\n",
      "Cost after iteration 1100: 0.013194\n",
      "Cost after iteration 1200: 0.010456\n",
      "Cost after iteration 1300: 0.008576\n",
      "Cost after iteration 1400: 0.007154\n",
      "Cost after iteration 1500: 0.006116\n",
      "Cost after iteration 1600: 0.005285\n",
      "Cost after iteration 1700: 0.004636\n",
      "Cost after iteration 1800: 0.004112\n",
      "Cost after iteration 1900: 0.003683\n",
      "Cost after iteration 2000: 0.003332\n",
      "Cost after iteration 2100: 0.003026\n",
      "Cost after iteration 2200: 0.002766\n",
      "Cost after iteration 2300: 0.002544\n",
      "Cost after iteration 2400: 0.002352\n"
     ]
    },
    {
     "data": {
      "image/png": "[encoded data removed]",
      "text/plain": [
       "<Figure size 432x288 with 1 Axes>"
      ]
     },
     "metadata": {
      "needs_background": "light"
     },
     "output_type": "display_data"
    },
    {
     "name": "stdout",
     "output_type": "stream",
     "text": [
      "Training accuracy using He initialization: 0.9999999999999998\n",
      "Test accuracy using He initialization: 0.8200000000000001\n"
     ]
    }
   ],
   "source": [
    "parameters_he = multilayer_nn_model(X_train, y_train, layers_dims, num_iterations=2500, learning_rate=0.0075, initializer='he', print_cost=True)\n",
    "\n",
    "prob = predict(X_train, y_train, parameters_he)\n",
    "print(\"Training accuracy using He initialization: \"  + str(np.sum((prob == y_train) / X_train.shape[1])))\n",
    "prob = predict(X_test, y_test, parameters_he)\n",
    "print(\"Test accuracy using He initialization: \"  + str(np.sum((prob == y_test) / X_test.shape[1])))"
   ]
  },
  {
   "cell_type": "code",
   "execution_count": 8,
   "id": "suitable-institution",
   "metadata": {},
   "outputs": [
    {
     "name": "stdout",
     "output_type": "stream",
     "text": [
      "Using xavier initialization\n",
      "Cost after iteration 0: 0.697426\n",
      "Cost after iteration 100: 0.614828\n",
      "Cost after iteration 200: 0.532019\n",
      "Cost after iteration 300: 0.498791\n",
      "Cost after iteration 400: 0.470021\n",
      "Cost after iteration 500: 0.427117\n",
      "Cost after iteration 600: 0.384549\n",
      "Cost after iteration 700: 0.330469\n",
      "Cost after iteration 800: 0.272653\n",
      "Cost after iteration 900: 0.112231\n",
      "Cost after iteration 1000: 0.077831\n",
      "Cost after iteration 1100: 0.047668\n",
      "Cost after iteration 1200: 0.032490\n",
      "Cost after iteration 1300: 0.023533\n",
      "Cost after iteration 1400: 0.017848\n",
      "Cost after iteration 1500: 0.014039\n",
      "Cost after iteration 1600: 0.011346\n",
      "Cost after iteration 1700: 0.009384\n",
      "Cost after iteration 1800: 0.007913\n",
      "Cost after iteration 1900: 0.006794\n",
      "Cost after iteration 2000: 0.005908\n",
      "Cost after iteration 2100: 0.005200\n",
      "Cost after iteration 2200: 0.004623\n",
      "Cost after iteration 2300: 0.004148\n",
      "Cost after iteration 2400: 0.003748\n"
     ]
    },
    {
     "data": {
      "image/png": "[encoded data removed]",
      "text/plain": [
       "<Figure size 432x288 with 1 Axes>"
      ]
     },
     "metadata": {
      "needs_background": "light"
     },
     "output_type": "display_data"
    },
    {
     "name": "stdout",
     "output_type": "stream",
     "text": [
      "Training accuracy using Xavier initialization: 0.9999999999999998\n",
      "Test accuracy using Xavier initialization: 0.76\n"
     ]
    }
   ],
   "source": [
    "parameters_xavier = multilayer_nn_model(X_train, y_train, layers_dims, num_iterations=2500, learning_rate=0.0075, initializer='xavier', print_cost=True)\n",
    "\n",
    "prob = predict(X_train, y_train, parameters_xavier)\n",
    "print(\"Training accuracy using Xavier initialization: \"  + str(np.sum((prob == y_train) / X_train.shape[1])))\n",
    "prob = predict(X_test, y_test, parameters_xavier)\n",
    "print(\"Test accuracy using Xavier initialization: \"  + str(np.sum((prob == y_test) / X_test.shape[1])))"
   ]
  },
  {
   "cell_type": "code",
   "execution_count": 9,
   "id": "suited-plaza",
   "metadata": {},
   "outputs": [
    {
     "name": "stdout",
     "output_type": "stream",
     "text": [
      "Using random initialization\n",
      "Cost after iteration 0: 0.693147\n",
      "Cost after iteration 100: 0.678011\n",
      "Cost after iteration 200: 0.667600\n",
      "Cost after iteration 300: 0.660422\n",
      "Cost after iteration 400: 0.655458\n",
      "Cost after iteration 500: 0.652014\n",
      "Cost after iteration 600: 0.649616\n",
      "Cost after iteration 700: 0.647942\n",
      "Cost after iteration 800: 0.646770\n",
      "Cost after iteration 900: 0.645947\n",
      "Cost after iteration 1000: 0.645368\n",
      "Cost after iteration 1100: 0.644961\n",
      "Cost after iteration 1200: 0.644673\n",
      "Cost after iteration 1300: 0.644469\n",
      "Cost after iteration 1400: 0.644325\n",
      "Cost after iteration 1500: 0.644223\n",
      "Cost after iteration 1600: 0.644151\n",
      "Cost after iteration 1700: 0.644100\n",
      "Cost after iteration 1800: 0.644063\n",
      "Cost after iteration 1900: 0.644037\n",
      "Cost after iteration 2000: 0.644019\n",
      "Cost after iteration 2100: 0.644006\n",
      "Cost after iteration 2200: 0.643997\n",
      "Cost after iteration 2300: 0.643990\n",
      "Cost after iteration 2400: 0.643985\n"
     ]
    },
    {
     "data": {
      "image/png": "[encoded data removed]",
      "text/plain": [
       "<Figure size 432x288 with 1 Axes>"
      ]
     },
     "metadata": {
      "needs_background": "light"
     },
     "output_type": "display_data"
    },
    {
     "name": "stdout",
     "output_type": "stream",
     "text": [
      "Training accuracy using random initialization: 0.6555023923444976\n",
      "Test accuracy using random initialization: 0.3400000000000001\n"
     ]
    }
   ],
   "source": [
    "parameters_random = multilayer_nn_model(X_train, y_train, layers_dims, num_iterations=2500, learning_rate=0.0075, initializer='random', print_cost=True)\n",
    "\n",
    "prob = predict(X_train, y_train, parameters_random)\n",
    "print(\"Training accuracy using random initialization: \"  + str(np.sum((prob == y_train) / X_train.shape[1])))\n",
    "prob = predict(X_test, y_test, parameters_random)\n",
    "print(\"Test accuracy using random initialization: \"  + str(np.sum((prob == y_test) / X_test.shape[1])))"
   ]
  }
 ],
 "metadata": {
  "kernelspec": {
   "display_name": "Python 3.7 (with TensorFlow GPU)",
   "language": "python",
   "name": "tensorflow"
  },
  "language_info": {
   "codemirror_mode": {
    "name": "ipython",
    "version": 3
   },
   "file_extension": ".py",
   "mimetype": "text/x-python",
   "name": "python",
   "nbconvert_exporter": "python",
   "pygments_lexer": "ipython3",
   "version": "3.7.9"
  }
 },
 "nbformat": 4,
 "nbformat_minor": 5
}
